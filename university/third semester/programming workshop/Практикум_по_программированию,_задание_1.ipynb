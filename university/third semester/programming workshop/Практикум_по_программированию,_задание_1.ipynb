{
  "nbformat": 4,
  "nbformat_minor": 0,
  "metadata": {
    "colab": {
      "provenance": []
    },
    "kernelspec": {
      "name": "python3",
      "display_name": "Python 3"
    },
    "language_info": {
      "name": "python"
    }
  },
  "cells": [
    {
      "cell_type": "code",
      "source": [
        "import numpy as np"
      ],
      "metadata": {
        "id": "BXrsxbE3sPFA"
      },
      "execution_count": null,
      "outputs": []
    },
    {
      "cell_type": "markdown",
      "source": [
        "Создайте numpy array **my_array**, элементами которого будут числа из интервала [10, 70) с шагом 2. Выведите на экран результат."
      ],
      "metadata": {
        "id": "UVEV3x7LsFuA"
      }
    },
    {
      "cell_type": "code",
      "source": [
        "my_array = np.arange(10, 70, 2)\n",
        "result = ' '.join(map(str, my_array))\n",
        "print(result)"
      ],
      "metadata": {
        "colab": {
          "base_uri": "https://localhost:8080/"
        },
        "id": "HHufZ366siL6",
        "outputId": "57162b23-bc0b-4106-9adb-7467cad33366"
      },
      "execution_count": null,
      "outputs": [
        {
          "output_type": "stream",
          "name": "stdout",
          "text": [
            "10 12 14 16 18 20 22 24 26 28 30 32 34 36 38 40 42 44 46 48 50 52 54 56 58 60 62 64 66 68\n"
          ]
        }
      ]
    },
    {
      "cell_type": "markdown",
      "source": [
        "Преобразуйте полученный **my_array** в матрицу **A** (6x5).\n",
        "Транспонируйте матрицу **A**. Далее будем работать с\n",
        "транспонированной матрицей **A**."
      ],
      "metadata": {
        "id": "Cqs_1wBuszvh"
      }
    },
    {
      "cell_type": "code",
      "source": [
        "# Сделаем из массива матрицу\n",
        "my_array = np.arange(10, 70, 2)\n",
        "A = my_array.reshape((6, 5))\n",
        "for row in A:\n",
        "    for elem in row:\n",
        "        print(elem, end=' ')\n",
        "    print()"
      ],
      "metadata": {
        "colab": {
          "base_uri": "https://localhost:8080/"
        },
        "id": "eVqArXG-s40j",
        "outputId": "c0a0e11c-df87-4294-b4e8-ab51acf59fbc"
      },
      "execution_count": null,
      "outputs": [
        {
          "output_type": "stream",
          "name": "stdout",
          "text": [
            "10 12 14 16 18 \n",
            "20 22 24 26 28 \n",
            "30 32 34 36 38 \n",
            "40 42 44 46 48 \n",
            "50 52 54 56 58 \n",
            "60 62 64 66 68 \n"
          ]
        }
      ]
    },
    {
      "cell_type": "code",
      "source": [
        "#Транспонируем матрицу\n",
        "A = A.T\n",
        "for row in A:\n",
        "    for elem in row:\n",
        "        print(elem, end=' ')\n",
        "    print()"
      ],
      "metadata": {
        "colab": {
          "base_uri": "https://localhost:8080/"
        },
        "id": "sZyEnn_ktffr",
        "outputId": "ef61d705-0c5d-44a4-ee47-3148d79341c1"
      },
      "execution_count": null,
      "outputs": [
        {
          "output_type": "stream",
          "name": "stdout",
          "text": [
            "10 20 30 40 50 60 \n",
            "12 22 32 42 52 62 \n",
            "14 24 34 44 54 64 \n",
            "16 26 36 46 56 66 \n",
            "18 28 38 48 58 68 \n"
          ]
        }
      ]
    },
    {
      "cell_type": "markdown",
      "source": [
        "Умножьте все элементы матрицы на 2.5 и вычтете из каждого элемента\n",
        "5 (в одной строке). Выведите новую матрицу на экран."
      ],
      "metadata": {
        "id": "T1pK8V8yuu2p"
      }
    },
    {
      "cell_type": "code",
      "source": [
        "A = A * 2.5\n",
        "row_to_substract = 0\n",
        "A[row_to_substract] = A[row_to_substract] - 5\n",
        "for row in A:\n",
        "    for elem in row:\n",
        "        print(int(elem), end=' ')\n",
        "    print()"
      ],
      "metadata": {
        "colab": {
          "base_uri": "https://localhost:8080/"
        },
        "id": "UgmDcCQCuw5d",
        "outputId": "4eea58b4-4bb0-4d53-9852-49ecce167709"
      },
      "execution_count": null,
      "outputs": [
        {
          "output_type": "stream",
          "name": "stdout",
          "text": [
            "20 \n",
            "45 \n",
            "70 \n",
            "95 \n",
            "120 \n",
            "145 \n",
            "30 \n",
            "55 \n",
            "80 \n",
            "105 \n",
            "130 \n",
            "155 \n",
            "35 \n",
            "60 \n",
            "85 \n",
            "110 \n",
            "135 \n",
            "160 \n",
            "40 \n",
            "65 \n",
            "90 \n",
            "115 \n",
            "140 \n",
            "165 \n",
            "45 \n",
            "70 \n",
            "95 \n",
            "120 \n",
            "145 \n",
            "170 \n"
          ]
        }
      ]
    },
    {
      "cell_type": "markdown",
      "source": [
        "Создайте матрицу **B** (6x3) заполняя каждую ячейку случайным\n",
        "действительным числом от 0 до 10. Выведите матрицу на экран."
      ],
      "metadata": {
        "id": "VTNjv-yJwtvP"
      }
    },
    {
      "cell_type": "code",
      "source": [
        "B = np.random.uniform(0, 10, size=(6, 3))\n",
        "B = np.around(B, decimals=2)\n",
        "for row in B:\n",
        "    for elem in row:\n",
        "        if elem.is_integer():\n",
        "            print(int(elem), end=' ')\n",
        "        else:\n",
        "            print('{:.2f}'.format(elem), end=' ')\n",
        "    print()"
      ],
      "metadata": {
        "colab": {
          "base_uri": "https://localhost:8080/"
        },
        "id": "QFG78OXVwy0K",
        "outputId": "60c48b15-cb9a-4227-bcf0-0f53279d0b07"
      },
      "execution_count": null,
      "outputs": [
        {
          "output_type": "stream",
          "name": "stdout",
          "text": [
            "9.73 1.93 9.82 \n",
            "6.57 1.68 1.26 \n",
            "1.47 6.61 9.71 \n",
            "2.33 7.42 9.20 \n",
            "0.12 6.19 5.13 \n",
            "7.68 8.89 6.55 \n"
          ]
        }
      ]
    },
    {
      "cell_type": "markdown",
      "source": [
        "Получите вектор **a**, элементами которого являются суммы по всем\n",
        "строкам матрицы **A**. Получите вектор **b**, элементами которого являются\n",
        "суммы по всем столбцам матрицы **B**. Выведите на экран размеры\n",
        "полученных векторов."
      ],
      "metadata": {
        "id": "YwSHIYThxSof"
      }
    },
    {
      "cell_type": "code",
      "source": [
        "a = np.sum(A, axis=1)\n",
        "print(\"Вектор a:\")\n",
        "for elem in a:\n",
        "    print(int(elem), end=' ')\n",
        "print()\n",
        "\n",
        "b = np.sum(B, axis=0)\n",
        "b = np.around(b, decimals=2)\n",
        "print(\"Вектор b:\")\n",
        "for elem in b:\n",
        "    if elem.is_integer():\n",
        "        print(int(elem), end=' ')\n",
        "    else:\n",
        "        print('{:.2f}'.format(elem), end=' ')\n",
        "print()\n",
        "\n",
        "#Не совсем понял \"Выведите на экран размеры полученных векторов.\", поэтому добавил вывод размеров векторов.\n",
        "\n",
        "print(\"Размер вектора a:\", len(a))\n",
        "print(\"Размер вектора b:\", len(b))"
      ],
      "metadata": {
        "colab": {
          "base_uri": "https://localhost:8080/"
        },
        "id": "oMw79oTQxXUO",
        "outputId": "320e9cdd-d11a-41c0-a61a-d72572dfe2a5"
      },
      "execution_count": null,
      "outputs": [
        {
          "output_type": "stream",
          "name": "stdout",
          "text": [
            "Вектор a:\n",
            "495 555 585 615 645 \n",
            "Вектор b:\n",
            "23.92 39.09 19.20 \n",
            "Размер вектора a: 5\n",
            "Размер вектора b: 3\n"
          ]
        }
      ]
    },
    {
      "cell_type": "markdown",
      "source": [
        "Вычислите произведение матриц **A** и **B**."
      ],
      "metadata": {
        "id": "_MgTqg98zCzR"
      }
    },
    {
      "cell_type": "code",
      "source": [
        "C = np.dot(A, B)\n",
        "\n",
        "print(\"Произведение матриц A и B:\")\n",
        "for row in C:\n",
        "    for elem in row:\n",
        "        elem = '{:.2f}'.format(elem).rstrip('0').rstrip('.') # мы оставляем после точки только 2 цифры, а после удаляем все нули (после точки). Если справа от самого числа осталась только точка, мы ее удаляем.\n",
        "        print(elem, end=' ')\n",
        "    print()"
      ],
      "metadata": {
        "colab": {
          "base_uri": "https://localhost:8080/"
        },
        "id": "xGt-WY_6zFEH",
        "outputId": "42c3e087-67c1-456e-9b9c-e5273daee04d"
      },
      "execution_count": null,
      "outputs": [
        {
          "output_type": "stream",
          "name": "stdout",
          "text": [
            "Произведение матриц A и B:\n",
            "2742.3 2509.5 2331.8 \n",
            "3086.7 2819.5 2605.7 \n",
            "3258.9 2974.5 2742.65 \n",
            "3431.1 3129.5 2879.6 \n",
            "3603.3 3284.5 3016.55 \n"
          ]
        }
      ]
    },
    {
      "cell_type": "markdown",
      "source": [
        "Удалите третий столбец из матрицы **A**. Добавьте три столбца из\n",
        "случайных чисел от 10 до 20 к матрице **B**. На данном шаге у вас\n",
        "должны получиться две квадратные матрицы **A** и **B** (5x5 и 6x6)."
      ],
      "metadata": {
        "id": "JxWpxYLg2Oor"
      }
    },
    {
      "cell_type": "code",
      "source": [
        "A = np.delete(A, 2, axis=1) #удаляем третий столбец (axis=1 означает удаление столбца, 2 - индекс столбца)\n",
        "print('Матрица А:')\n",
        "for row in A:\n",
        "    for elem in row:\n",
        "        print(int(elem), end=' ')\n",
        "    print()\n",
        "print()\n",
        "random_columns = np.random.randint(10, 21, size=(B.shape[0], 3)) # с помощью B.shape[0] мы получаем количество элементов, которые нужно заполнить в новых столбцах\n",
        "                                                                 # т.е. грубо говоря мы получаем количество строк, чтобы создать 3 столбца такого же размера, как и остальные\n",
        "B = np.hstack((B, random_columns))  # данной строкой мы добавляем к нашей матрице B 3 сгенерированных выше столбца\n",
        "B = np.around(B, decimals=2)\n",
        "print('Матрица B:')\n",
        "for row in B:\n",
        "    for elem in row:\n",
        "        if elem.is_integer():\n",
        "            print(int(elem), end=' ')\n",
        "        else:\n",
        "            print('{:.2f}'.format(elem), end=' ')\n",
        "    print()\n"
      ],
      "metadata": {
        "colab": {
          "base_uri": "https://localhost:8080/"
        },
        "id": "oQ1mIZQ32R_p",
        "outputId": "fb11517e-e74d-466f-9e8b-195fca349adc"
      },
      "execution_count": null,
      "outputs": [
        {
          "output_type": "stream",
          "name": "stdout",
          "text": [
            "Матрица А:\n",
            "107 263 576 732 888 \n",
            "187 343 656 812 968 \n",
            "218 375 687 843 1000 \n",
            "250 406 718 875 1031 \n",
            "281 437 750 906 1062 \n",
            "\n",
            "Матрица B:\n",
            "9.73 1.93 9.82 14 15 20 \n",
            "6.57 1.68 1.26 16 20 12 \n",
            "1.47 6.61 9.71 17 19 12 \n",
            "2.33 7.42 9.20 19 15 16 \n",
            "0.12 6.19 5.13 18 18 12 \n",
            "7.68 8.89 6.55 19 14 13 \n"
          ]
        }
      ]
    },
    {
      "cell_type": "markdown",
      "source": [
        "Найдите определители матриц **A** и **B**. Вычислите обратные матрицы\n",
        "для матриц **A** и **B**. Обратите внимание на то, что определитель может\n",
        "быть равен нулю и тогда вычисление обратной матрицы невозможно."
      ],
      "metadata": {
        "id": "EdxPiChq9EYG"
      }
    },
    {
      "cell_type": "code",
      "source": [
        "det_A = np.linalg.det(A)\n",
        "print(\"Определитель матрицы А:\")\n",
        "if det_A.is_integer():\n",
        "  print(int(det_A))\n",
        "else:\n",
        "  print(det_A)\n",
        "\n",
        "det_B = np.linalg.det(B)\n",
        "print(\"Определитель матрицы B:\")\n",
        "if det_B.is_integer():\n",
        "  print(int(det_B))\n",
        "else:\n",
        "  print('{:.2f}'.format(det_B))\n"
      ],
      "metadata": {
        "colab": {
          "base_uri": "https://localhost:8080/"
        },
        "id": "I6zCImI29IcZ",
        "outputId": "00819ce7-29af-4e21-b2ba-d2371314d124"
      },
      "execution_count": null,
      "outputs": [
        {
          "output_type": "stream",
          "name": "stdout",
          "text": [
            "Определитель матрицы А:\n",
            "0\n",
            "Определитель матрицы B:\n",
            "58047.18\n"
          ]
        }
      ]
    },
    {
      "cell_type": "code",
      "source": [
        "# Проверка, существует ли обратная матрица для A и B\n",
        "if det_A != 0:\n",
        "    inv_A = np.linalg.inv(A)z\n",
        "    print(\"Обратная матрица для A:\")\n",
        "    for row in inv_A:\n",
        "        for elem in row:\n",
        "            formatted_elem = '{:.2f}'.format(elem).rstrip('0').rstrip('.')\n",
        "            print(formatted_elem, end=' ')\n",
        "        print()\n",
        "else:\n",
        "    print(\"Обратной матрицы для A не существует (определитель равен нулю)\")\n",
        "\n",
        "if det_B != 0:\n",
        "    inv_B = np.linalg.inv(B)\n",
        "    print(\"Обратная матрица для B:\")\n",
        "    for row in inv_B:\n",
        "        for elem in row:\n",
        "            formatted_elem = '{:.2f}'.format(elem).rstrip('0').rstrip('.')\n",
        "            print(formatted_elem, end=' ')\n",
        "        print()\n",
        "else:\n",
        "    print(\"Обратной матрицы для B не существует (определитель равен нулю)\")"
      ],
      "metadata": {
        "colab": {
          "base_uri": "https://localhost:8080/"
        },
        "id": "_tknpwgc9UMT",
        "outputId": "58880731-39fb-4413-de92-f75baf8cf3ba"
      },
      "execution_count": null,
      "outputs": [
        {
          "output_type": "stream",
          "name": "stdout",
          "text": [
            "Обратной матрицы для A не существует (определитель равен нулю)\n",
            "Обратная матрица для B:\n",
            "-0.01 0.06 0.05 -0.02 -0.16 0.09 \n",
            "0.41 -0.64 -0.18 -1.07 1.16 0.36 \n",
            "-0.17 0.2 0.24 0.43 -0.6 -0.12 \n",
            "-0.45 0.56 0.12 1.03 -1.05 -0.22 \n",
            "0.17 -0.18 0.03 -0.47 0.43 0.08 \n",
            "0.29 -0.32 -0.22 -0.46 0.67 0.08 \n"
          ]
        }
      ]
    },
    {
      "cell_type": "markdown",
      "source": [
        "Возведите матрицу **A** в 6 степень, а матрицу **B** – в 14."
      ],
      "metadata": {
        "id": "1GjsYBRDAMoE"
      }
    },
    {
      "cell_type": "code",
      "source": [
        "A6 = np.linalg.matrix_power(A, 6)\n",
        "\n",
        "# Возведение матрицы B в 14 степень\n",
        "B14 = np.linalg.matrix_power(B, 14)\n",
        "\n",
        "print('Матрица A:')\n",
        "for row in A6:\n",
        "    for elem in row:\n",
        "        if elem.is_integer():\n",
        "            print(int(elem), end=' ')\n",
        "        else:\n",
        "            print('{:.2f}'.format(elem), end=' ')\n",
        "    print()\n",
        "\n",
        "print('Матрица B:')\n",
        "for row in B14:\n",
        "    for elem in row:\n",
        "        if elem.is_integer():\n",
        "            print(int(elem), end=' ')\n",
        "        else:\n",
        "            print('{:.2f}'.format(elem), end=' ')\n",
        "    print()"
      ],
      "metadata": {
        "colab": {
          "base_uri": "https://localhost:8080/"
        },
        "id": "Z-DM7UQqAPw1",
        "outputId": "d03e411e-3f5f-4845-86f9-59992d59df14"
      },
      "execution_count": null,
      "outputs": [
        {
          "output_type": "stream",
          "name": "stdout",
          "text": [
            "Матрица A:\n",
            "1129241703375000 1876213300640625 3370156495171875 4117128092437500 4864099689703125 \n",
            "1256417141625000 2087512856859375 3749704287328125 4580800002562500 5411895717796875 \n",
            "1320004860750000 2193162634968750 3939478183406250 4812635957625000 5685793731843750 \n",
            "1383592579875000 2298812413078125 4129252079484375 5044471912687500 5959691745890625 \n",
            "1447180299000000 2404462191187500 4319025975562500 5276307867750000 6233589759937500 \n",
            "Матрица B:\n",
            "298634552716448864665600 533649271854825767698432 194888859606724324098048 1034421482989616308944896 1398041996192119775035392 1124446979648346757529600 \n",
            "247538018249118027087872 442341591063197177085952 161543269682037882093568 857431404385049585385472 1158836249919900132311040 932053489579362812428288 \n",
            "363169651810962593808384 648971187311725198180352 237004454580226229272576 1257960562118422677159936 1700159677960544898252800 1367440620532263804731392 \n",
            "285466265353909371404288 510118013001230492631040 186295237456268867141632 988808678918203025391616 1336395349535428391731200 1074864502278184998273024 \n",
            "295903229247315731546112 528768494438939734573056 193106398363331338436608 1024960623059732558512128 1385255448619785396420608 1114162742953659489845248 \n",
            "263117954426790081462272 470182380151823243673600 171710733449627500019712 911397767417094337462272 1231772904022002146213888 990716534491021859356672 \n"
          ]
        }
      ]
    },
    {
      "cell_type": "markdown",
      "source": [
        "Решите систему линейных уравнений для своего варианта. Вариантов\n",
        "меньше, чем студентов. Ваш вариант – это остаток от деления вашего\n",
        "номера в группе на количество вариантов.\n",
        "8/2 = 4"
      ],
      "metadata": {
        "id": "RpqnGW3pBcrL"
      }
    },
    {
      "cell_type": "code",
      "source": [
        "system = np.array([[2.3, 0, -3.4, -12],\n",
        "              [2.6, 8.4, 0, -6],\n",
        "              [1.3, 4.5, -17, 2],\n",
        "              [1.8, 0, 15, 16]])\n",
        "\n",
        "answers = np.array([-14, 0.4, -3.6, 17.4])\n",
        "\n",
        "x = np.linalg.solve(system, answers)\n",
        "\n",
        "print(\"Решение системы уравнений:\")\n",
        "for i in range(0, x.size):\n",
        "  print(\"x\", i, \" = \", np.round(x[i], 2))"
      ],
      "metadata": {
        "colab": {
          "base_uri": "https://localhost:8080/"
        },
        "id": "3ou32eEmChVu",
        "outputId": "4588502a-09e6-403d-d8c0-e63c92c800a8"
      },
      "execution_count": null,
      "outputs": [
        {
          "output_type": "stream",
          "name": "stdout",
          "text": [
            "Решение системы уравнений:\n",
            "x 0  =  -1.28\n",
            "x 1  =  1.01\n",
            "x 2  =  0.47\n",
            "x 3  =  0.79\n"
          ]
        }
      ]
    }
  ]
}