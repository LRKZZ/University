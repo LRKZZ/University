{
  "nbformat": 4,
  "nbformat_minor": 0,
  "metadata": {
    "colab": {
      "provenance": []
    },
    "kernelspec": {
      "name": "python3",
      "display_name": "Python 3"
    },
    "language_info": {
      "name": "python"
    }
  },
  "cells": [
    {
      "cell_type": "code",
      "execution_count": null,
      "metadata": {
        "id": "2HsM7mom6wAG"
      },
      "outputs": [],
      "source": [
        "import scipy\n",
        "import numpy as np\n",
        "from scipy.misc import derivative\n",
        "from scipy.optimize import minimize"
      ]
    },
    {
      "cell_type": "markdown",
      "source": [
        "1. Найдите первую и вторую производные функции y в заданной точке x0\n",
        "для своего варианта с помощью scipy."
      ],
      "metadata": {
        "id": "tT_SJC9X8vuX"
      }
    },
    {
      "cell_type": "code",
      "source": [
        "def y(x):\n",
        "    return np.log(np.sqrt(x))\n",
        "\n",
        "x0=2\n",
        "a=1\n",
        "b=6\n",
        "\n",
        "first_derivative = round(derivative(y, x0, dx=1e-6, n=1), 2) #вычисляем первую производную (n=1) y в точке x0 с шагом dx\n",
        "\n",
        "# Вычисление второй производной в точке x0\n",
        "second_derivative = round(derivative(y, x0, dx=1e-6, n=2), 2)\n",
        "\n",
        "# Вывод результатов\n",
        "print(\"Первая производная в точке x0:\", first_derivative)\n",
        "print(\"Вторая производная в точке x0:\", second_derivative)"
      ],
      "metadata": {
        "colab": {
          "base_uri": "https://localhost:8080/"
        },
        "id": "Efa2XLVY8xQg",
        "outputId": "548ee5c7-309b-4cc5-853b-2120a7e5c007"
      },
      "execution_count": null,
      "outputs": [
        {
          "output_type": "stream",
          "name": "stdout",
          "text": [
            "Первая производная в точке x0: 0.25\n",
            "Вторая производная в точке x0: -0.12\n"
          ]
        },
        {
          "output_type": "stream",
          "name": "stderr",
          "text": [
            "<ipython-input-6-d765d28c775c>:8: DeprecationWarning: scipy.misc.derivative is deprecated in SciPy v1.10.0; and will be completely removed in SciPy v1.12.0. You may consider using findiff: https://github.com/maroba/findiff or numdifftools: https://github.com/pbrod/numdifftools\n",
            "  first_derivative = round(derivative(y, x0, dx=1e-6, n=1), 2) #вычисляем первую производную (n=1) y в точке x0 с шагом dx\n",
            "<ipython-input-6-d765d28c775c>:11: DeprecationWarning: scipy.misc.derivative is deprecated in SciPy v1.10.0; and will be completely removed in SciPy v1.12.0. You may consider using findiff: https://github.com/maroba/findiff or numdifftools: https://github.com/pbrod/numdifftools\n",
            "  second_derivative = round(derivative(y, x0, dx=1e-6, n=2), 2)\n"
          ]
        }
      ]
    },
    {
      "cell_type": "markdown",
      "source": [
        "2. Используя функцию из таблицы выше для вашего варианта и пакет\n",
        "sympy выведите на экран символьное представление производной."
      ],
      "metadata": {
        "id": "WiJrdoGe_b-I"
      }
    },
    {
      "cell_type": "code",
      "source": [
        "import sympy as sp\n",
        "\n",
        "# Определение символьных переменных\n",
        "x = sp.Symbol('x')\n",
        "\n",
        "# Определение функции y\n",
        "y = sp.log(sp.sqrt(x))\n",
        "\n",
        "# Вычисление первой производной\n",
        "y_prime = sp.diff(y, x)\n",
        "\n",
        "# Вывод символьного представления производной\n",
        "print(\"Первая производная:\", y_prime)"
      ],
      "metadata": {
        "colab": {
          "base_uri": "https://localhost:8080/"
        },
        "id": "BmjKpN_D_eoT",
        "outputId": "e9764047-6dae-4459-a39b-f4086f093742"
      },
      "execution_count": null,
      "outputs": [
        {
          "output_type": "stream",
          "name": "stdout",
          "text": [
            "Первая производная: 1/(2*x)\n"
          ]
        }
      ]
    },
    {
      "cell_type": "markdown",
      "source": [
        "3. Вычислите определенный интеграл от a до b с помощью scipy функции\n",
        "для своего варианта. Интеграл вычислите методом прямоугольников."
      ],
      "metadata": {
        "id": "Q4gGwjfgBV6O"
      }
    },
    {
      "cell_type": "code",
      "source": [
        "from scipy.integrate import quad\n",
        "def y(x):\n",
        "  return np.log(np.sqrt(x))\n",
        "\n",
        "result, err = quad(y, a, b)  # y - функция, которую будем интегрировать, a и b - границы интегрирования, err - оценка погрешности, result - результат\n",
        "print(round(result,2))"
      ],
      "metadata": {
        "colab": {
          "base_uri": "https://localhost:8080/"
        },
        "id": "vNbOKShEBeGE",
        "outputId": "6b79d452-dc72-45df-dd00-965f92bdd623"
      },
      "execution_count": null,
      "outputs": [
        {
          "output_type": "stream",
          "name": "stdout",
          "text": [
            "2.88\n"
          ]
        }
      ]
    },
    {
      "cell_type": "markdown",
      "source": [
        "4. С помощью sympy выведите на экран неопределенный интеграл\n",
        "функции y для вашего варианта."
      ],
      "metadata": {
        "id": "cc7GjCxKDn8G"
      }
    },
    {
      "cell_type": "code",
      "source": [
        "print(sp.integrate(sp.log(sp.sqrt(x)), x))"
      ],
      "metadata": {
        "colab": {
          "base_uri": "https://localhost:8080/"
        },
        "id": "OKGXL2bjD3Tw",
        "outputId": "5a4e7e92-5834-4e55-861d-96a3ca14aa8e"
      },
      "execution_count": null,
      "outputs": [
        {
          "output_type": "stream",
          "name": "stdout",
          "text": [
            "x*log(sqrt(x)) - x/2\n"
          ]
        }
      ]
    },
    {
      "cell_type": "markdown",
      "source": [
        "5. Решите задачу нелинейной оптимизации для вашего варианта.\n",
        "Выведите оптимальное значение и решение."
      ],
      "metadata": {
        "id": "Mxu0JmOHFB6J"
      }
    },
    {
      "cell_type": "code",
      "source": [
        "def objective_function(x):\n",
        "    return (x[0] - 3)**2 + x[1]\n",
        "\n",
        "# Определение ограничения\n",
        "def constraint(x):\n",
        "    return np.array([-2*x[0] + x[1] - 2, 3*x[1] - 10])\n",
        "\n",
        "# Определение границ переменных\n",
        "b = (0, np.inf)\n",
        "bnds = (b, b)\n",
        "\n",
        "# Начальное приближение\n",
        "x0 = np.zeros(2)\n",
        "\n",
        "# Решение задачи оптимизации\n",
        "solution = scipy.optimize.minimize(objective_function, x0, method='SLSQP', bounds=bnds, constraints={'type': 'ineq', 'fun': constraint})\n",
        "\n",
        "# Вывод результата\n",
        "print(solution)\n",
        "print('Минимум функции:', solution.fun)\n",
        "print('Оптимальные переменные x1 и x2:', solution.x)"
      ],
      "metadata": {
        "colab": {
          "base_uri": "https://localhost:8080/"
        },
        "id": "L4l6pJRaFEqA",
        "outputId": "4c2a2b2b-81b5-4bcd-a1ea-aaa3ed6c931d"
      },
      "execution_count": null,
      "outputs": [
        {
          "output_type": "stream",
          "name": "stdout",
          "text": [
            " message: Optimization terminated successfully\n",
            " success: True\n",
            "  status: 0\n",
            "     fun: 7.000000000000027\n",
            "       x: [ 2.000e+00  6.000e+00]\n",
            "     nit: 4\n",
            "     jac: [-2.000e+00  1.000e+00]\n",
            "    nfev: 12\n",
            "    njev: 4\n",
            "Минимум функции: 7.000000000000027\n",
            "Оптимальные переменные x1 и x2: [1.99999995 5.99999991]\n"
          ]
        }
      ]
    }
  ]
}